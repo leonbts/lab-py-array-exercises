{
 "cells": [
  {
   "cell_type": "markdown",
   "metadata": {},
   "source": [
    "# LAB : Python Array Exercises"
   ]
  },
  {
   "cell_type": "markdown",
   "metadata": {},
   "source": [
    "## Overview"
   ]
  },
  {
   "cell_type": "markdown",
   "metadata": {},
   "source": [
    "This exercise set focuses on various operations and problems related to arrays in Python. Each exercise is categorized by difficulty level, with examples provided for clarity.\n"
   ]
  },
  {
   "cell_type": "markdown",
   "metadata": {},
   "source": [
    "## Instructions\n",
    "\n",
    "- Complete each exercise by writing the appropriate Python code.\n",
    "- Complete your code in a Jupyter Notebook (.ipynb) format.\n",
    "- Submit the link to your forked repository containing the notebook with your implementation.\n",
    "\n",
    "Make sure to follow these steps carefully to ensure proper submission of your work. "
   ]
  },
  {
   "cell_type": "markdown",
   "metadata": {},
   "source": [
    "\n",
    "## Exercises\n"
   ]
  },
  {
   "cell_type": "markdown",
   "metadata": {},
   "source": [
    "\n",
    "1. **Create an Array and Display Items**\n",
    "   - Write a Python program to create an array of 5 integers and display the array items. Access individual elements through indexes.\n",
    "\n",
    "   **Example:**\n",
    "   ```python\n",
    "   # Sample Input\n",
    "   arr =[1, 3, 5, 7, 9]\n",
    "\n",
    "   # Sample Output\n",
    "   1\n",
    "   3\n",
    "   5\n",
    "   7\n",
    "   9\n",
    "   ```\n"
   ]
  },
  {
   "cell_type": "code",
   "execution_count": 10,
   "metadata": {},
   "outputs": [
    {
     "name": "stdout",
     "output_type": "stream",
     "text": [
      "10\n"
     ]
    }
   ],
   "source": [
    "arr = [2, 4, 6, 8, 10]\n",
    "x = int(input(\"Please enter an index\"))\n",
    "print(arr[x])"
   ]
  },
  {
   "cell_type": "markdown",
   "metadata": {},
   "source": [
    "\n",
    "2. **Append an Item to the Array**\n",
    "   - Write a Python program to append a new item to the end of the array.\n",
    "\n",
    "   **Example:**\n",
    "   ```python\n",
    "   # Sample Input\n",
    "   arr =  [1, 3, 5, 7, 9]\n",
    "\n",
    "   # Sample Output\n",
    "   Original array: [1, 3, 5, 7, 9]\n",
    "   New array after appending: [1, 3, 5, 7, 9, 11]\n",
    "   ```\n"
   ]
  },
  {
   "cell_type": "code",
   "execution_count": 13,
   "metadata": {},
   "outputs": [
    {
     "name": "stdout",
     "output_type": "stream",
     "text": [
      "[2, 4, 6, 8, 10, 12]\n"
     ]
    }
   ],
   "source": [
    "arr = [2, 4, 6, 8, 10]\n",
    "x = int(input(\"Please enter a number to append\"))\n",
    "arr.append(x)\n",
    "print(arr)"
   ]
  },
  {
   "cell_type": "markdown",
   "metadata": {},
   "source": [
    "\n",
    "3. **Reverse the Array**\n",
    "   - Write a Python program to reverse the order of the items in the array.\n",
    "\n",
    "   **Example:**\n",
    "   ```python\n",
    "   # Sample Input\n",
    "   arr = [1, 3, 5, 7, 9]\n",
    "\n",
    "   # Sample Output\n",
    "   Original array:[1, 3, 5, 7, 9]\n",
    "   Reversed array:  [9, 7, 5, 3, 1]\n",
    "   ```\n"
   ]
  },
  {
   "cell_type": "code",
   "execution_count": 56,
   "metadata": {},
   "outputs": [
    {
     "data": {
      "text/plain": [
       "[10, 8, 6, 4, 2]"
      ]
     },
     "execution_count": 56,
     "metadata": {},
     "output_type": "execute_result"
    }
   ],
   "source": [
    "arr = [2, 4, 6, 8, 10]\n",
    "reversed_arr = arr[::-1]\n",
    "reversed_arr"
   ]
  },
  {
   "cell_type": "code",
   "execution_count": 55,
   "metadata": {},
   "outputs": [
    {
     "data": {
      "text/plain": [
       "[10, 8, 6, 4, 2]"
      ]
     },
     "execution_count": 55,
     "metadata": {},
     "output_type": "execute_result"
    }
   ],
   "source": [
    "arr = [2, 4, 6, 8, 10]\n",
    "arr.reverse()\n",
    "arr"
   ]
  },
  {
   "cell_type": "markdown",
   "metadata": {},
   "source": [
    "\n",
    "4. **Find the Length of an Array Item**\n",
    "   - Write a Python program to get the length in bytes of one array item in the internal representation.\n",
    "\n",
    "   **Example:**\n",
    "   ```python\n",
    "   # Sample Input\n",
    "   arr = [1, 3, 5, 7, 9]\n",
    "\n",
    "   # Sample Output\n",
    "   Length in bytes of one array item: 4\n",
    "   ```\n"
   ]
  },
  {
   "cell_type": "code",
   "execution_count": null,
   "metadata": {},
   "outputs": [
    {
     "name": "stdout",
     "output_type": "stream",
     "text": [
      "Length in bytes of one array item: 4\n"
     ]
    }
   ],
   "source": [
    "import array\n",
    "\n",
    "arr = array.array('i', [2, 4, 6, 8, 10])\n",
    "print(f\"Length in bytes of one array item: {arr.itemsize}\")"
   ]
  },
  {
   "cell_type": "markdown",
   "metadata": {},
   "source": [
    "\n",
    "5. **Remove an Item by Index**\n",
    "   - Write a Python program to remove a specified item using the index of an array.\n",
    "\n",
    "   **Example:**\n",
    "   ```python\n",
    "   # Sample Input\n",
    "   arr = [1, 3, 5, 7, 9]\n",
    "\n",
    "   # Sample Output\n",
    "   Original array: [1, 3, 5, 7, 9]\n",
    "   New array after removing index 2: [1, 3, 7, 9]\n",
    "   ```\n"
   ]
  },
  {
   "cell_type": "code",
   "execution_count": 57,
   "metadata": {},
   "outputs": [
    {
     "data": {
      "text/plain": [
       "[2, 4, 6, 8]"
      ]
     },
     "execution_count": 57,
     "metadata": {},
     "output_type": "execute_result"
    }
   ],
   "source": [
    "arr = [2, 4, 6, 8, 10]\n",
    "x = int(input(\"Please enter an index\"))\n",
    "arr.remove(arr[x])\n",
    "arr"
   ]
  },
  {
   "cell_type": "markdown",
   "metadata": {},
   "source": [
    "\n",
    "6. **Remove First Occurrence of an Element**\n",
    "   - Write a Python program to remove the first occurrence of a specified element from an array.\n",
    "\n",
    "   **Example:**\n",
    "   ```python\n",
    "   # Sample Input\n",
    "   arr = [1, 3, 5, 3, 7]\n",
    "\n",
    "   # Sample Output\n",
    "   Original array: [1, 3, 5, 3, 7]\n",
    "   New array after removing first occurrence of '3': [1, 5, 3, 7]\n",
    "   ```\n"
   ]
  },
  {
   "cell_type": "code",
   "execution_count": 53,
   "metadata": {},
   "outputs": [
    {
     "name": "stdout",
     "output_type": "stream",
     "text": [
      "[2, 4, 8, 10, 8, 6]\n"
     ]
    }
   ],
   "source": [
    "arr = [2, 4, 6, 8, 10, 8, 6]\n",
    "arr.remove(int(input(\"Please enter a number\")))\n",
    "print(arr)\n"
   ]
  },
  {
   "cell_type": "markdown",
   "metadata": {},
   "source": [
    "\n",
    "7. **Convert Array to List**\n",
    "    - Write a Python program to convert an array to an ordinary list with the same items.\n",
    "\n",
    "    **Example:**\n",
    "    ```python\n",
    "    # Sample Input\n",
    "    arr = [1, 2, 3]\n",
    "\n",
    "    # Sample Output\n",
    "    Converted list: [1, 2, 3]\n",
    "    ```\n"
   ]
  },
  {
   "cell_type": "code",
   "execution_count": 2,
   "metadata": {},
   "outputs": [
    {
     "data": {
      "text/plain": [
       "[2, 4, 6, 8, 10]"
      ]
     },
     "execution_count": 2,
     "metadata": {},
     "output_type": "execute_result"
    }
   ],
   "source": [
    "import array\n",
    "\n",
    "arr = array.array('i', [2, 4, 6, 8, 10])\n",
    "list(arr)"
   ]
  },
  {
   "cell_type": "markdown",
   "metadata": {},
   "source": [
    "\n",
    "8. **Check for Duplicates in Array**\n",
    "    - Write a Python program to find out if a given array of integers contains any duplicate elements.\n",
    "\n",
    "    **Example:**\n",
    "    ```python\n",
    "    # Sample Input\n",
    "    arr = [1,2,3,4]\n",
    "\n",
    "    # Sample Output\n",
    "    Contains duplicates: False\n",
    "\n",
    "    arr = [1,2,2]\n",
    "\n",
    "    Contains duplicates: True\n",
    "    ```\n"
   ]
  },
  {
   "cell_type": "code",
   "execution_count": 4,
   "metadata": {},
   "outputs": [
    {
     "name": "stdout",
     "output_type": "stream",
     "text": [
      "True\n"
     ]
    }
   ],
   "source": [
    "arr = [2, 4, 6, 8, 8, 10]\n",
    "if len(arr) == len(set(arr)):\n",
    "    print(False)\n",
    "else:\n",
    "    print(True)"
   ]
  },
  {
   "cell_type": "markdown",
   "metadata": {},
   "source": [
    "## Advanced Exercises\n"
   ]
  },
  {
   "cell_type": "markdown",
   "metadata": {},
   "source": [
    "\n",
    "1. **Find Maximum and Minimum in an Array**\n",
    "    - Write a Python program to find the maximum and minimum values in an integer array.\n",
    "\n",
    "    **Example:**\n",
    "    ```python\n",
    "    # Sample Input\n",
    "    arr = [10, -2, -30 ,4 ,100 ,50]\n",
    "\n",
    "    # Sample Output\n",
    "    Maximum value:100\n",
    "    Minimum value:-30\n",
    "    ```\n"
   ]
  },
  {
   "cell_type": "code",
   "execution_count": 15,
   "metadata": {},
   "outputs": [
    {
     "data": {
      "text/plain": [
       "56"
      ]
     },
     "metadata": {},
     "output_type": "display_data"
    },
    {
     "data": {
      "text/plain": [
       "-13"
      ]
     },
     "metadata": {},
     "output_type": "display_data"
    }
   ],
   "source": [
    "arr = [15, -5, 8, 56, -13, 2, 0]\n",
    "arr.sort()\n",
    "max_value = arr[-1]\n",
    "min_value = arr[0]\n",
    "display(max_value)\n",
    "display(min_value)"
   ]
  },
  {
   "cell_type": "code",
   "execution_count": 17,
   "metadata": {},
   "outputs": [
    {
     "data": {
      "text/plain": [
       "100"
      ]
     },
     "metadata": {},
     "output_type": "display_data"
    },
    {
     "data": {
      "text/plain": [
       "-9"
      ]
     },
     "metadata": {},
     "output_type": "display_data"
    }
   ],
   "source": [
    "arr = [28, 4, -9, -1, 1, 100, 50]\n",
    "display(max(arr))\n",
    "display(min(arr))"
   ]
  },
  {
   "cell_type": "markdown",
   "metadata": {},
   "source": [
    "\n",
    "2. **Count Even and Odd Numbers in an Array**\n",
    "    - Write a Python program to count how many even and odd numbers are present in an integer array.\n",
    "\n",
    "    **Example:**\n",
    "    ```python\n",
    "    # Sample Input\n",
    "    arr = [10 ,21 ,32 ,43 ,54 ,65 ,76 ,87]\n",
    "\n",
    "    # Sample Output\n",
    "    Even count:4\n",
    "    Odd count:4\n",
    "    ```\n"
   ]
  },
  {
   "cell_type": "code",
   "execution_count": 18,
   "metadata": {},
   "outputs": [
    {
     "data": {
      "text/plain": [
       "5"
      ]
     },
     "metadata": {},
     "output_type": "display_data"
    },
    {
     "data": {
      "text/plain": [
       "7"
      ]
     },
     "metadata": {},
     "output_type": "display_data"
    }
   ],
   "source": [
    "arr = [10, 21, 32, 43, 54, 65, 76, 87, 3, 5, 7, 100]\n",
    "even = 0\n",
    "odd = 0\n",
    "for x in arr:\n",
    "    if x % 2 == 0:\n",
    "        even += 1\n",
    "    else:\n",
    "        odd += 1\n",
    "\n",
    "display(even)\n",
    "display(odd)"
   ]
  },
  {
   "cell_type": "markdown",
   "metadata": {},
   "source": [
    "## Bonus Challenges\n"
   ]
  },
  {
   "cell_type": "markdown",
   "metadata": {},
   "source": [
    "\n",
    "1. **Rotate Array Elements**\n",
    "    - Write a Python program to rotate elements of an integer array by `k` positions.\n",
    "\n",
    "    **Example:**\n",
    "    ```python\n",
    "    # Sample Input\n",
    "    arr = [10 ,20 ,30 ,40 ,50]\n",
    "    k =2\n",
    "\n",
    "    # Sample Output\n",
    "    Rotated Array: [30 ,40 ,50 ,10 ,20]\n",
    "    ```\n"
   ]
  },
  {
   "cell_type": "code",
   "execution_count": 43,
   "metadata": {},
   "outputs": [
    {
     "name": "stdout",
     "output_type": "stream",
     "text": [
      "[6, 8, 10, 2, 4]\n"
     ]
    }
   ],
   "source": [
    "arr = [2, 4, 6, 8, 10]\n",
    "k = int(input(\"Please enter an integer\"))\n",
    "\n",
    "print(arr[-k:] + arr[:-k])\n"
   ]
  },
  {
   "cell_type": "markdown",
   "metadata": {},
   "source": [
    "\n",
    "2. **Merge Two Sorted Arrays**\n",
    "     - Write a Python program to merge two sorted arrays into one sorted array.\n",
    "\n",
    "     **Example:**\n",
    "     ```python\n",
    "     # Sample Input\n",
    "     arr1 = [1 ,3 ,5]\n",
    "     arr2 = [2 ,4 ,6]\n",
    "\n",
    "     # Sample Output\n",
    "     Merged Sorted Array: [1 ,2 ,3 ,4 ,5 ,6]\n",
    "     ```\n",
    "\n"
   ]
  },
  {
   "cell_type": "code",
   "execution_count": 51,
   "metadata": {},
   "outputs": [
    {
     "name": "stdout",
     "output_type": "stream",
     "text": [
      "[1, 2, 3, 4, 5, 6, 7, 8, 9, 10]\n"
     ]
    }
   ],
   "source": [
    "arr1 = [1, 3, 5, 7, 9]\n",
    "arr2 = [2, 4, 6, 8, 10]\n",
    "\n",
    "sorted_arr = sorted(arr1 + arr2)\n",
    "print(sorted_arr)"
   ]
  },
  {
   "cell_type": "markdown",
   "metadata": {},
   "source": [
    "### Exercise Completion\n",
    "Once you have completed all exercises:\n",
    "- Review your solutions.\n",
    "- Ensure your Python code are well-documented with comments explaining your logic.\n",
    "- Save your notebook for submission or further review.\n",
    "\n",
    "Happy coding! Enjoy practicing Arrays in Python!"
   ]
  },
  {
   "cell_type": "markdown",
   "metadata": {},
   "source": []
  }
 ],
 "metadata": {
  "kernelspec": {
   "display_name": ".VENV",
   "language": "python",
   "name": "python3"
  },
  "language_info": {
   "codemirror_mode": {
    "name": "ipython",
    "version": 3
   },
   "file_extension": ".py",
   "mimetype": "text/x-python",
   "name": "python",
   "nbconvert_exporter": "python",
   "pygments_lexer": "ipython3",
   "version": "3.12.2"
  }
 },
 "nbformat": 4,
 "nbformat_minor": 2
}
